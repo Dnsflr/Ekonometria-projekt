{
 "cells": [
  {
   "cell_type": "markdown",
   "id": "c3f04f0d",
   "metadata": {},
   "source": [
    "# Projekcik tutaj będzie"
   ]
  }
 ],
 "metadata": {
  "language_info": {
   "name": "python"
  }
 },
 "nbformat": 4,
 "nbformat_minor": 5
}
