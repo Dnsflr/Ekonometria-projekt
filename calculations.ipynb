{
 "cells": [
  {
   "cell_type": "markdown",
   "id": "c3f04f0d",
   "metadata": {},
   "source": [
    "# Projekcik tutaj będzie"
   ]
  },
  {
   "cell_type": "code",
   "execution_count": 17,
   "id": "0a4c153f",
   "metadata": {},
   "outputs": [],
   "source": [
    "import numpy as np \n",
    "import pandas as pd\n",
    "import matplotlib.pyplot as plt \n",
    "from sklearn.cluster import KMeans \n",
    "from sklearn.datasets import make_blobs \n",
    "from sklearn.preprocessing import StandardScaler\n",
    "import plotly.express as px"
   ]
  },
  {
   "cell_type": "code",
   "execution_count": 18,
   "id": "32e13645",
   "metadata": {},
   "outputs": [],
   "source": [
    "file_path = \"Data/Baza_Ekonometria.xlsx\"\n",
    "\n",
    "df_2014 = pd.read_excel(file_path, sheet_name='2014')\n",
    "df_2018 = pd.read_excel(file_path, sheet_name='2018')\n",
    "df_2022 = pd.read_excel(file_path, sheet_name='2022')"
   ]
  },
  {
   "cell_type": "markdown",
   "id": "6bb377e1",
   "metadata": {},
   "source": [
    "## 2014"
   ]
  },
  {
   "cell_type": "code",
   "execution_count": null,
   "id": "31105068",
   "metadata": {},
   "outputs": [
    {
     "name": "stdout",
     "output_type": "stream",
     "text": [
      "<class 'pandas.core.frame.DataFrame'>\n",
      "RangeIndex: 16 entries, 0 to 15\n",
      "Data columns (total 9 columns):\n",
      " #   Column                      Non-Null Count  Dtype  \n",
      "---  ------                      --------------  -----  \n",
      " 0   Nazwa                       16 non-null     object \n",
      " 1   Odsetek_Studentów           16 non-null     float64\n",
      " 2   Odsetek_studentów_medyczne  16 non-null     float64\n",
      " 3   Zdawalnosc_matur            16 non-null     float64\n",
      " 4   Odsetek_pielegniarek        16 non-null     float64\n",
      " 5   Absolwenci_10_tys           16 non-null     float64\n",
      " 6   Odsetek_absolwentow         16 non-null     float64\n",
      " 7   Odsetek_madrali             16 non-null     float64\n",
      " 8   Badacze                     16 non-null     float64\n",
      "dtypes: float64(8), object(1)\n",
      "memory usage: 1.3+ KB\n"
     ]
    }
   ],
   "source": [
    "df_2014.info()"
   ]
  }
 ],
 "metadata": {
  "kernelspec": {
   "display_name": ".venv",
   "language": "python",
   "name": "python3"
  },
  "language_info": {
   "codemirror_mode": {
    "name": "ipython",
    "version": 3
   },
   "file_extension": ".py",
   "mimetype": "text/x-python",
   "name": "python",
   "nbconvert_exporter": "python",
   "pygments_lexer": "ipython3",
   "version": "3.12.7"
  }
 },
 "nbformat": 4,
 "nbformat_minor": 5
}
